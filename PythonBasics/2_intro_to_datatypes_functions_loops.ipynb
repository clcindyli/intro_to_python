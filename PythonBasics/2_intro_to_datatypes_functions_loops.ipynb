{
 "cells": [
  {
   "cell_type": "markdown",
   "id": "50adc98f",
   "metadata": {},
   "source": [
    "# Introduction to Data Types, Functions, and Loops"
   ]
  },
  {
   "cell_type": "markdown",
   "id": "3c75074a",
   "metadata": {},
   "source": [
    "### Lists"
   ]
  },
  {
   "cell_type": "markdown",
   "id": "4dbdd790",
   "metadata": {},
   "source": [
    "In Python, lists are ways of grouping together similar things. Things in lists are called \"elements\"."
   ]
  },
  {
   "cell_type": "code",
   "execution_count": 1,
   "id": "5b58ed89",
   "metadata": {},
   "outputs": [],
   "source": [
    "the_count = [1, 2, 3, 4, 5]\n",
    "stocks = [\"FB\", \"AAPL\", \"NFLX\", \"GOOG\"]\n",
    "random_things = [54, 1/2, \"Puppies\", stocks]\n",
    "## you can include variables, and math in lists!!!"
   ]
  },
  {
   "cell_type": "markdown",
   "id": "7bde0cf4",
   "metadata": {},
   "source": [
    "You can add/remove things from lists using .append and .remove"
   ]
  },
  {
   "cell_type": "code",
   "execution_count": 4,
   "id": "464e8011",
   "metadata": {},
   "outputs": [
    {
     "name": "stdout",
     "output_type": "stream",
     "text": [
      "['Nick', 'Connor']\n"
     ]
    }
   ],
   "source": [
    "people = []\n",
    "people.append(\"Cindy\")\n",
    "people.append(\"Nick\")\n",
    "people.append(\"Connor\")\n",
    "people.remove(\"Cindy\")\n",
    "print(people)"
   ]
  },
  {
   "cell_type": "markdown",
   "id": "12c2ee03",
   "metadata": {},
   "source": [
    "You can also make strings into lists with .split and lists into strings with .join"
   ]
  },
  {
   "cell_type": "code",
   "execution_count": 5,
   "id": "13d70c63",
   "metadata": {},
   "outputs": [
    {
     "name": "stdout",
     "output_type": "stream",
     "text": [
      "['New York', 'Toronto', 'Zurich']\n",
      "Pastrami, Flour, Cheese\n"
     ]
    }
   ],
   "source": [
    "cities = \"New York, Toronto, Zurich\".split(\", \")\n",
    "print(cities)\n",
    "\n",
    "groceries = [\"Pastrami\",\"Flour\",\"Cheese\"]\n",
    "print(\", \".join(groceries))"
   ]
  },
  {
   "cell_type": "markdown",
   "id": "dadea09d",
   "metadata": {},
   "source": [
    "We can pick out elements from a list using [] \n",
    "\n",
    "Note that Python uses indexing so the first element is 0"
   ]
  },
  {
   "cell_type": "code",
   "execution_count": 6,
   "id": "2dcba3aa",
   "metadata": {},
   "outputs": [
    {
     "name": "stdout",
     "output_type": "stream",
     "text": [
      "['New York', 'Toronto']\n"
     ]
    }
   ],
   "source": [
    "first_city = cities[0]\n",
    "second_city = cities [1]\n",
    "last_city = cities[-1]\n",
    "first_two_cities = cities [0:2]\n",
    "\n",
    "print(first_two_cities)"
   ]
  },
  {
   "cell_type": "markdown",
   "id": "0128f1cb",
   "metadata": {},
   "source": [
    "### Dictionaries"
   ]
  },
  {
   "cell_type": "markdown",
   "id": "de8b1277",
   "metadata": {},
   "source": [
    "Another data type is a dictionary - it lets us label things using strings. They use key-value pairs {label:value, x:y}"
   ]
  },
  {
   "cell_type": "code",
   "execution_count": 7,
   "id": "e00b34a0",
   "metadata": {},
   "outputs": [
    {
     "name": "stdout",
     "output_type": "stream",
     "text": [
      "Microsoft\n",
      "MFST\n",
      "Microsoft's stock ticker is MFST\n"
     ]
    }
   ],
   "source": [
    "#stocks as a dictionary\n",
    "stock = {\"name\":\"Microsoft\",\n",
    "        \"ticker\":\"MFST\",\n",
    "        \"index\":\"NASDAQ\"}\n",
    "\n",
    "print(stock['name'])\n",
    "print(stock['ticker'])\n",
    "\n",
    "print(f\"{stock['name']}'s stock ticker is {stock['ticker']}\")"
   ]
  },
  {
   "cell_type": "markdown",
   "id": "ec50f7a0",
   "metadata": {},
   "source": [
    "Let's combine previous f-strings to print out parts of a dictionary."
   ]
  },
  {
   "cell_type": "code",
   "execution_count": 10,
   "id": "ff1bb9cb",
   "metadata": {},
   "outputs": [
    {
     "name": "stdout",
     "output_type": "stream",
     "text": [
      "My name is Cindy and I am 161 cm tall. My eyes are brown and I am a brunette.\n"
     ]
    }
   ],
   "source": [
    "user = {\"name\":\"Cindy\",\n",
    "        \"height\":\"161 cm\",\n",
    "        \"hair\":\"brunette\",\n",
    "        \"eyes\":\"brown\"}\n",
    "\n",
    "print(f\"My name is {user['name']} and I am {user['height']} tall. \\\n",
    "My eyes are {user['eyes']} and I am a {user['hair']}.\")"
   ]
  },
  {
   "cell_type": "markdown",
   "id": "ee65f54e",
   "metadata": {},
   "source": [
    "We can also add key-value pairs to dictionaries"
   ]
  },
  {
   "cell_type": "code",
   "execution_count": 11,
   "id": "6b4ec457",
   "metadata": {},
   "outputs": [
    {
     "name": "stdout",
     "output_type": "stream",
     "text": [
      "{'name': 'Microsoft', 'ticker': 'MFST', 'index': 'NASDAQ', 'open price': 108.25, 'close price': 106.03}\n"
     ]
    }
   ],
   "source": [
    "stock[\"open price\"] = 108.25\n",
    "stock[\"close price\"] = 106.03\n",
    "print(stock)"
   ]
  },
  {
   "cell_type": "markdown",
   "id": "7429ffbc",
   "metadata": {},
   "source": [
    "### Boolean Variables"
   ]
  },
  {
   "cell_type": "markdown",
   "id": "2decd040",
   "metadata": {},
   "source": [
    "Boolean variables are either 1 (True) or 0 (False) - it always only has one of two possible values. Below we look at how Python's logic works with true/false statements."
   ]
  },
  {
   "cell_type": "code",
   "execution_count": 17,
   "id": "a27afdef",
   "metadata": {},
   "outputs": [
    {
     "data": {
      "text/plain": [
       "False"
      ]
     },
     "execution_count": 17,
     "metadata": {},
     "output_type": "execute_result"
    }
   ],
   "source": [
    "True and True #True\n",
    "False and True #False\n",
    "1 == 1 and 2 == 1 #False\n",
    "\"love\" == \"love\" #true\n",
    "1 == 1 or 2 != 1 #True\n",
    "True and 1 == 1 #True\n",
    "False and 0 != 0 #False\n",
    "True or 1 == 1 #True\n",
    "\"time\" == \"money\" #False\n",
    "1 != 0 and 2 == 1 #False\n",
    "\"I Can't Believe It's Not Butter!\" != \"butter\" #True\n",
    "\"one\" == 1 #False\n",
    "not (True and False) #True\n",
    "not (1 == 1 and 0 != 1) #False\n",
    "not (10 == 1 or 1000 == 1000) #False\n",
    "not (1 != 10 or 3 == 4) #False\n",
    "not (\"love\" == \"love\" and \"time\" == \"money\") #True\n",
    "1 == 1 and (not (\"one\" == 1 or 1 == 0)) #True\n",
    "\"chunky\" == \"bacon\" and (not (3 == 4 or 3 == 3)) #False\n",
    "3 == 3 and (not (\"love\" == \"love\" or \"Python\" == \"Fun\")) #False"
   ]
  },
  {
   "cell_type": "markdown",
   "id": "62b0ebe6",
   "metadata": {},
   "source": [
    "### Functions"
   ]
  },
  {
   "cell_type": "markdown",
   "id": "36ca11ea",
   "metadata": {},
   "source": [
    "Functions are little snippets of code that you can reuse. We have already used things like 'random' and 'upper', etc. We can define and write our own fuctions, or import them from existing packages."
   ]
  },
  {
   "cell_type": "markdown",
   "id": "dc5414a0",
   "metadata": {},
   "source": [
    "A very special call we use a lot is if/elif/else - it allows us to add conditions to our functions and other pieces of code that require rules."
   ]
  },
  {
   "cell_type": "code",
   "execution_count": 12,
   "id": "b2dd227c",
   "metadata": {},
   "outputs": [
    {
     "name": "stdout",
     "output_type": "stream",
     "text": [
      "Do you want to hear a joke? Y\n",
      "I'm against picketing, but I don't know to show it\n"
     ]
    }
   ],
   "source": [
    "#An example of an if/elif/else\n",
    "answer = input(\"Do you want to hear a joke? \")\n",
    "\n",
    "if answer.lower() in [\"yes\", \"y\"]:\n",
    "    print(\"I'm against picketing, but I don't know how to show it\")\n",
    "#tabbing is important!\n",
    "#can tab in more ifs but very uncommon\n",
    "elif answer in [\"no\", \"No\"]:\n",
    "    print(\"Fine.\")\n",
    "else:\n",
    "    print(\"I don't understand.\")\n",
    "#can only have one else and one if"
   ]
  },
  {
   "cell_type": "markdown",
   "id": "c1e8b8d9",
   "metadata": {},
   "source": [
    "Though there are many existing functions, below we write some ourselves using the tools we have covered so far!"
   ]
  },
  {
   "cell_type": "code",
   "execution_count": 15,
   "id": "a19e40f6",
   "metadata": {},
   "outputs": [
    {
     "name": "stdout",
     "output_type": "stream",
     "text": [
      "2.0\n",
      "36.5\n",
      "New York\n",
      "NY\n",
      "PU TAHW\n",
      "Hey Cindy!\n",
      "Hey you!\n"
     ]
    }
   ],
   "source": [
    "#some simple functions we can write ourselves\n",
    "def average(numbers):\n",
    "    return sum(numbers) / len(numbers)\n",
    "\n",
    "def get_city(address):\n",
    "    return address.split(', ')[1]\n",
    "\n",
    "def get_state(address):\n",
    "    return address.split(', ')[2].split(' ')[0]\n",
    "\n",
    "def uppercase_and_reverse(string):\n",
    "    return string.upper()[::-1]\n",
    "\n",
    "def greet(name = \"you\"):\n",
    "    return f\"Hey {name}!\"\n",
    "\n",
    "if __name__ == \"__main__\":\n",
    "    numbers = [1, 2, 3]\n",
    "    numbers2 = [12, 87, 10.5]\n",
    "    \n",
    "def divisible_by(number, denominator):\n",
    "    return (number % denominator) == 0\n",
    "\n",
    "print(average(numbers))\n",
    "print(average(numbers2))\n",
    "\n",
    "columbia = \"3022 Broadway, New York, NY 10027, USA\"\n",
    "city = get_city(columbia)\n",
    "print(city)\n",
    "\n",
    "state = get_state(columbia)\n",
    "print(state)\n",
    "\n",
    "random_string = uppercase_and_reverse(\"what up\")\n",
    "print(random_string)\n",
    "\n",
    "print(greet(\"Cindy\"))\n",
    "print(greet())"
   ]
  },
  {
   "cell_type": "markdown",
   "id": "8de26470",
   "metadata": {},
   "source": [
    "As we mentioned, there are many packages and places where you can import functions. Some very common ones we list below:"
   ]
  },
  {
   "cell_type": "code",
   "execution_count": 14,
   "id": "5f34597a",
   "metadata": {},
   "outputs": [
    {
     "name": "stdout",
     "output_type": "stream",
     "text": [
      "2\n",
      "1992 days, 0:33:18\n",
      "7.0\n",
      "5.0\n"
     ]
    }
   ],
   "source": [
    "from statistics import mean\n",
    "\n",
    "print(mean([1,2,3]))\n",
    "\n",
    "from datetime import timedelta\n",
    "print(timedelta(2020-9-19, 2021-9-14))\n",
    "\n",
    "#identifies the median of the data\n",
    "from statistics import median\n",
    "print(median([1, 2, 6, 8, 3, 24, 29, 304]))\n",
    "\n",
    "#returns the absolute value of x\n",
    "from math import fabs\n",
    "print(fabs(-5))"
   ]
  },
  {
   "cell_type": "markdown",
   "id": "f4dfbe4d",
   "metadata": {},
   "source": [
    "If you wrote functions yourself, you can also import them from another file in the same working directory in the same way"
   ]
  },
  {
   "cell_type": "markdown",
   "id": "022d9ea6",
   "metadata": {},
   "source": [
    "### Loops"
   ]
  },
  {
   "cell_type": "markdown",
   "id": "b1a7e88a",
   "metadata": {},
   "source": [
    "Loops are really helpful for iterating over the same task many times! For a loop, you need at least \"for x in x's - do something\" - see some exaples below:"
   ]
  },
  {
   "cell_type": "code",
   "execution_count": 16,
   "id": "7635dbe0",
   "metadata": {},
   "outputs": [
    {
     "name": "stdout",
     "output_type": "stream",
     "text": [
      "1\n",
      "2\n",
      "3\n",
      "FB\n",
      "AAPL\n",
      "NFLX\n",
      "GOOG\n",
      "1\n",
      "4\n",
      "9\n",
      "16\n",
      "25\n",
      "36\n",
      "49\n",
      "64\n",
      "81\n",
      "100\n",
      "121\n",
      "144\n",
      "169\n",
      "196\n",
      "225\n",
      "256\n",
      "289\n",
      "324\n",
      "361\n",
      "400\n",
      "441\n",
      "484\n",
      "529\n",
      "576\n",
      "625\n",
      "676\n",
      "729\n",
      "784\n",
      "841\n",
      "900\n",
      "961\n",
      "1024\n",
      "1089\n",
      "1156\n",
      "1225\n",
      "1296\n",
      "1369\n",
      "1444\n",
      "1521\n",
      "1600\n",
      "1681\n",
      "1764\n",
      "1849\n",
      "1936\n",
      "2025\n",
      "2116\n",
      "2209\n",
      "2304\n",
      "2401\n",
      "2500\n",
      "2601\n",
      "2704\n",
      "2809\n",
      "2916\n",
      "3025\n",
      "3136\n",
      "3249\n",
      "3364\n",
      "3481\n",
      "3600\n",
      "3721\n",
      "3844\n",
      "3969\n",
      "4096\n",
      "4225\n",
      "4356\n",
      "4489\n",
      "4624\n",
      "4761\n",
      "4900\n",
      "5041\n",
      "5184\n",
      "5329\n",
      "5476\n",
      "5625\n",
      "5776\n",
      "5929\n",
      "6084\n",
      "6241\n",
      "6400\n",
      "6561\n",
      "6724\n",
      "6889\n",
      "7056\n",
      "7225\n",
      "7396\n",
      "7569\n",
      "7744\n",
      "7921\n",
      "8100\n",
      "8281\n",
      "8464\n",
      "8649\n",
      "8836\n",
      "9025\n",
      "9216\n",
      "9409\n",
      "9604\n",
      "9801\n",
      "10000\n",
      "[1, 4, 9, 16, 25, 36, 49, 64, 81, 100, 121, 144, 169, 196, 225, 256, 289, 324, 361, 400, 441, 484, 529, 576, 625, 676, 729, 784, 841, 900, 961, 1024, 1089, 1156, 1225, 1296, 1369, 1444, 1521, 1600, 1681, 1764, 1849, 1936, 2025, 2116, 2209, 2304, 2401, 2500, 2601, 2704, 2809, 2916, 3025, 3136, 3249, 3364, 3481, 3600, 3721, 3844, 3969, 4096, 4225, 4356, 4489, 4624, 4761, 4900, 5041, 5184, 5329, 5476, 5625, 5776, 5929, 6084, 6241, 6400, 6561, 6724, 6889, 7056, 7225, 7396, 7569, 7744, 7921, 8100, 8281, 8464, 8649, 8836, 9025, 9216, 9409, 9604, 9801, 10000]\n",
      "[2, 4, 6, 8, 10, 12, 14, 16, 18, 20, 22, 24, 26, 28, 30, 32, 34, 36, 38, 40, 42, 44, 46, 48, 50, 52, 54, 56, 58, 60, 62, 64, 66, 68, 70, 72, 74, 76, 78, 80, 82, 84, 86, 88, 90, 92, 94, 96, 98, 100]\n"
     ]
    }
   ],
   "source": [
    "#loop over lists\n",
    "numbers = [1, 2, 3]\n",
    "for number in numbers:\n",
    "    print(number)\n",
    "\n",
    "    #loop over lists and add an action\n",
    "stocks = [\"fb\",\"aapl\", \"nflx\",\"goog\"]\n",
    "for stock in stocks:\n",
    "    print(stock.upper())\n",
    "\n",
    "#loop within a range of numbers, and performing arithmetics\n",
    "for number in range(1, 101):\n",
    "    print((number ** 2))\n",
    "    \n",
    "#loop to generate things and store them in a list\n",
    "squares = [] #empty list\n",
    "for x in range(1, 101): #every time you create a loop, you are creating a variable\n",
    "        squares.append(x * x)\n",
    "print(squares)\n",
    "\n",
    "#include if/elif/else in a loop\n",
    "evens = []\n",
    "for number in range(1, 101):\n",
    "    if number % 2 == 0:\n",
    "        evens.append(number)\n",
    "    else:\n",
    "        pass\n",
    "\n",
    "print(evens)"
   ]
  },
  {
   "cell_type": "markdown",
   "id": "7622d3f7",
   "metadata": {},
   "source": [
    "### Symbols - What's with all the brackets?"
   ]
  },
  {
   "cell_type": "markdown",
   "id": "eb446800",
   "metadata": {},
   "source": [
    "We have seen all kinds of brackets, each with its own set of purpose - and are not interchangeable. Below is a summary of each type of brackets and what they do so far:"
   ]
  },
  {
   "cell_type": "markdown",
   "id": "76ba5a92",
   "metadata": {},
   "source": [
    "#### Uses of different symbols\n",
    "() >> all functions use parentheses - can also be grouped\n",
    "       >> used in math\n",
    "\n",
    "[] >> used for lists\n",
    "      >> used to reference indices (to pull something out of list/dictionary)\n",
    "\n",
    "{} >> used for dictionaries\n",
    "      >> used in f-strings "
   ]
  }
 ],
 "metadata": {
  "kernelspec": {
   "display_name": "Python 3 (ipykernel)",
   "language": "python",
   "name": "python3"
  },
  "language_info": {
   "codemirror_mode": {
    "name": "ipython",
    "version": 3
   },
   "file_extension": ".py",
   "mimetype": "text/x-python",
   "name": "python",
   "nbconvert_exporter": "python",
   "pygments_lexer": "ipython3",
   "version": "3.8.8"
  }
 },
 "nbformat": 4,
 "nbformat_minor": 5
}
