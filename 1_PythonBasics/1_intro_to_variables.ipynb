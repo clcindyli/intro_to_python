{
 "cells": [
  {
   "cell_type": "markdown",
   "id": "654943b6",
   "metadata": {},
   "source": [
    "# Introduction to Python Variables & Simple Printing"
   ]
  },
  {
   "cell_type": "markdown",
   "id": "9123373c",
   "metadata": {},
   "source": [
    "### Variables & Printing"
   ]
  },
  {
   "cell_type": "markdown",
   "id": "64f18e87",
   "metadata": {},
   "source": [
    "Variables are just boxes for storing things\n",
    "Typically, you want to use plain, lowercase words (with underscores in between)"
   ]
  },
  {
   "cell_type": "markdown",
   "id": "cc38e7f9",
   "metadata": {},
   "source": [
    "Let's look at a simple example"
   ]
  },
  {
   "cell_type": "code",
   "execution_count": 1,
   "id": "76d7df3a",
   "metadata": {},
   "outputs": [
    {
     "name": "stdout",
     "output_type": "stream",
     "text": [
      "Cindy Li the total will be 321.8\n"
     ]
    }
   ],
   "source": [
    "name = \"Cindy Li\"\n",
    "orphan_fee = 200\n",
    "teddy_bear_fee = 121.80\n",
    "total = orphan_fee + teddy_bear_fee\n",
    "\n",
    "print(name, \"the total will be\", total)"
   ]
  },
  {
   "cell_type": "markdown",
   "id": "fc807f11",
   "metadata": {},
   "source": [
    "Your variables can be 'strings' (str) or numerical variables can take on the form of integers (int), float, or complex numbers. There are also other data types - which we will introduce later on. Note - you cannot use a variable in your code if you have not defined them yet."
   ]
  },
  {
   "cell_type": "markdown",
   "id": "a0b89d59",
   "metadata": {},
   "source": [
    "Strings are text surrounded by quotes - you can use both single and double quotes \n",
    "The backslash \\ is a magical symbol in Python - it allows you to skip to the next line and ignore quotation marks in strings, without printing them.\n",
    "\n",
    "The print() function allows you to 'print' out the outputs of your code."
   ]
  },
  {
   "cell_type": "code",
   "execution_count": 3,
   "id": "b8d0caee",
   "metadata": {},
   "outputs": [
    {
     "name": "stdout",
     "output_type": "stream",
     "text": [
      "My greatest pain in life is that I will never be able to see myself perform live.\n",
      "'My name is Cindy', she said.\n"
     ]
    }
   ],
   "source": [
    "kanye_quote = 'My greatest pain in life is that \\\n",
    "I will never be able to see myself perform live.'\n",
    "\n",
    "print(kanye_quote)\n",
    "\n",
    "print(\"'My name is Cindy', she said.\")"
   ]
  },
  {
   "cell_type": "markdown",
   "id": "17113937",
   "metadata": {},
   "source": [
    "There are a few functions you can use on strings \n",
    "Functions that are specific to a data type (strings in this case) goes after the variable (.function())\n",
    "We can combine multiple functions in one line of code."
   ]
  },
  {
   "cell_type": "code",
   "execution_count": 5,
   "id": "231b4281",
   "metadata": {},
   "outputs": [
    {
     "name": "stdout",
     "output_type": "stream",
     "text": [
      "MY GREATEST PAIN IN LIFE IS THAT I WILL NEVER BE ABLE TO SEE MYSELF PERFORM LIVE.\n",
      "my greatest pain in life is that i will never be able to see myself perform live.\n",
      "OK GREAT\n"
     ]
    }
   ],
   "source": [
    "print(kanye_quote.upper())\n",
    "print(kanye_quote.lower())\n",
    "print(\"ok fine\".replace(\"fine\",\"great\").swapcase())"
   ]
  },
  {
   "cell_type": "markdown",
   "id": "fa85146b",
   "metadata": {},
   "source": [
    "f-strings let you run Python code inside of strings"
   ]
  },
  {
   "cell_type": "code",
   "execution_count": 9,
   "id": "b7ff4c5e",
   "metadata": {},
   "outputs": [
    {
     "name": "stdout",
     "output_type": "stream",
     "text": [
      "1 + 1 equals 2\n",
      "Cindy Li, the total will be $ 321.8\n"
     ]
    }
   ],
   "source": [
    "print(f\"1 + 1 equals {1 + 1}\")\n",
    "\n",
    "name = \"cindy li\"\n",
    "print(f\"{name.title()}, the total will be ${200 + 121.80 : 2}\")"
   ]
  },
  {
   "cell_type": "markdown",
   "id": "20d721f6",
   "metadata": {},
   "source": [
    "### Math"
   ]
  },
  {
   "cell_type": "markdown",
   "id": "91616938",
   "metadata": {},
   "source": [
    "In Python, you can do math using common symbols: +, -, /, *, ** (exponents)\n",
    "\n",
    "Note: longer code is not always less efficient"
   ]
  },
  {
   "cell_type": "code",
   "execution_count": 11,
   "id": "6b2b3f16",
   "metadata": {},
   "outputs": [
    {
     "name": "stdout",
     "output_type": "stream",
     "text": [
      "What is the answer to life, the universe, and everything? 42.0\n",
      "Is it true that 5 ** 2 > 3 ** 4?\n",
      "False\n"
     ]
    }
   ],
   "source": [
    "answer = (40 + 30 - 7) * 2 / 3\n",
    "print(\"What is the answer to life, the universe, and everything?\", answer)\n",
    "print(\"Is it true that 5 ** 2 > 3 ** 4?\")\n",
    "print(5 ** 2 > 3 ** 4)"
   ]
  },
  {
   "cell_type": "markdown",
   "id": "880814c8",
   "metadata": {},
   "source": [
    "### User Input function"
   ]
  },
  {
   "cell_type": "markdown",
   "id": "ba3477ee",
   "metadata": {},
   "source": [
    "You can use the input() function to allow users to enter answers to questions"
   ]
  },
  {
   "cell_type": "code",
   "execution_count": 12,
   "id": "6bbb1151",
   "metadata": {},
   "outputs": [
    {
     "name": "stdout",
     "output_type": "stream",
     "text": [
      "What's your name? Cindy\n",
      "How old are you 24\n",
      "Hi Cindy! You're 168 in dog years. Woof!\n"
     ]
    }
   ],
   "source": [
    "name = input(\"What's your name? \")\n",
    "age = input(\"How old are you \")\n",
    "age_in_dog_years = int(age) * 7\n",
    "print(f\"Hi {name}! You're {age_in_dog_years} in dog years. Woof!\")"
   ]
  },
  {
   "cell_type": "markdown",
   "id": "61d80c81",
   "metadata": {},
   "source": [
    "### Random function"
   ]
  },
  {
   "cell_type": "markdown",
   "id": "2178a3f0",
   "metadata": {},
   "source": [
    "You can import packages / functions to run more complex tasks. For example, 'random' allows us to choose from lists (another data type which we will use later on)"
   ]
  },
  {
   "cell_type": "code",
   "execution_count": 13,
   "id": "69c45c7d",
   "metadata": {},
   "outputs": [
    {
     "name": "stdout",
     "output_type": "stream",
     "text": [
      "How about you go to 1020 Bar with Samantha Mackie and Costis Maglaras?\n"
     ]
    }
   ],
   "source": [
    "import random\n",
    "\n",
    "bars = [\"The Hamilton\",\n",
    "        \"1020 Bar\",\n",
    "        \"The Heights\",\n",
    "        \"The Dead Poet\"]\n",
    "\n",
    "people = [\"Mattan\",\n",
    "          \"that person you forgot to text back\",\n",
    "          \"Costis Maglaras\",\n",
    "          \"Samuel L. Jackson\",\n",
    "          \"Samantha Mackie\"]\n",
    "\n",
    "random_bar = random.choice(bars)\n",
    "random_person = random.choice(people)\n",
    "random_person2 = random.choice(people)\n",
    "\n",
    "print(f\"How about you go to {random_bar} with {random_person} and {random_person2}?\")"
   ]
  },
  {
   "cell_type": "markdown",
   "id": "4c76d2bd",
   "metadata": {},
   "source": [
    "### Application: Building a future value calculator"
   ]
  },
  {
   "cell_type": "markdown",
   "id": "bb0762d6",
   "metadata": {},
   "source": [
    "Build a future value calculator by using input() to get values from the user.\n",
    "\n",
    "We convert them into integers or floats before doing any math on them and then print out the result.\n",
    "\n",
    "Reminder: Future Value = Present Value x (1 + Rate of Return) ^ Number of Periods"
   ]
  },
  {
   "cell_type": "code",
   "execution_count": 14,
   "id": "9fdf31b7",
   "metadata": {},
   "outputs": [
    {
     "name": "stdout",
     "output_type": "stream",
     "text": [
      "What is the present value (current price) of your stock? 24\n",
      "What is the current rate of return? 0.06\n",
      "For how many periods into the future do we want to know? 4\n",
      "What type of time period are we using? (e.g. years, etc.) years\n",
      "The value of your stock in 4 years is $30.30.\n"
     ]
    }
   ],
   "source": [
    "present_value = input(\"What is the present value (current price) of your stock? \")\n",
    "rate_of_return = input(\"What is the current rate of return? \")\n",
    "n_period = input(\"For how many periods into the future do we want to know? \")\n",
    "period_type = input(\"What type of time period are we using? (e.g. years, etc.) \")\n",
    "\n",
    "future_value = float(present_value) * (1 + float(rate_of_return)) ** int(n_period)\n",
    "\n",
    "print(f\"The value of your stock in {n_period} {period_type} is ${future_value :.2f}.\")"
   ]
  }
 ],
 "metadata": {
  "kernelspec": {
   "display_name": "Python 3 (ipykernel)",
   "language": "python",
   "name": "python3"
  },
  "language_info": {
   "codemirror_mode": {
    "name": "ipython",
    "version": 3
   },
   "file_extension": ".py",
   "mimetype": "text/x-python",
   "name": "python",
   "nbconvert_exporter": "python",
   "pygments_lexer": "ipython3",
   "version": "3.8.8"
  }
 },
 "nbformat": 4,
 "nbformat_minor": 5
}
